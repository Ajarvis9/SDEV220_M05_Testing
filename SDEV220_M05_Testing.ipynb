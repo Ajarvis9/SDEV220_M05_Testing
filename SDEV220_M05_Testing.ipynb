{
 "cells": [
  {
   "cell_type": "code",
   "execution_count": null,
   "id": "3bb54f0d-0271-4745-aa32-df7f16f9e21a",
   "metadata": {},
   "outputs": [],
   "source": [
    "import unittest\n",
    "from fractions import Fraction\n",
    "from my_sum import sum\n",
    "\n",
    "class TestSum(unittest.TestCase):\n",
    "    def test_list_int(self):\n",
    "        \"\"\"\n",
    "        Test that it can sum a list of integers\n",
    "        \"\"\"\n",
    "        data = [1, 2, 3]\n",
    "        result = sum(data)\n",
    "        self.assertEqual(result, 6)\n",
    "\n",
    "    def test_list_fraction(self):\n",
    "        \"\"\"\n",
    "        Test that it can sum a list of fractions\n",
    "        \"\"\"\n",
    "        data = [Fraction(1, 4), Fraction(1, 4), Fraction(2, 5)]\n",
    "        result = sum(data)\n",
    "        self.assertEqual(result, 1)\n",
    "        \n",
    "if __name__ == '__main__':\n",
    "    unittest.main()\n",
    "\n",
    "#Results of running the test code in Visual Studio    \n",
    "#F.\n",
    "#======================================================================\n",
    "#FAIL: test_list_fraction (__main__.TestSum.test_list_fraction)\n",
    "#Test that it can sum a list of fractions\n",
    "#----------------------------------------------------------------------\n",
    "#Traceback (most recent call last):\n",
    "#  File \"c:\\Users\\vermi\\SDEV220_M05\\test.py\", line 22, in test_list_fraction\n",
    "#    self.assertEqual(result, 1)\n",
    "#AssertionError: Fraction(9, 10) != 1\n",
    "\n",
    "#The first test came back as '.F' meaning that the first test passed\n",
    "#The second test gave an error that the assertion failed and the test itself failed beacuse the fractions\n",
    "#did not result in eqaling to 1."
   ]
  }
 ],
 "metadata": {
  "kernelspec": {
   "display_name": "Python 3 (ipykernel)",
   "language": "python",
   "name": "python3"
  },
  "language_info": {
   "codemirror_mode": {
    "name": "ipython",
    "version": 3
   },
   "file_extension": ".py",
   "mimetype": "text/x-python",
   "name": "python",
   "nbconvert_exporter": "python",
   "pygments_lexer": "ipython3",
   "version": "3.12.4"
  }
 },
 "nbformat": 4,
 "nbformat_minor": 5
}
